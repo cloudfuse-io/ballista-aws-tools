{
 "cells": [
  {
   "cell_type": "markdown",
   "id": "0b526368-9ea1-4d79-abd0-4f964da77e69",
   "metadata": {},
   "source": [
    "# TPC-H 100 bench reading from EBS\n",
    "\n",
    "We upload 100GB of TPC-H data to AWS EFS and run some ballista queries on AWS Fargate."
   ]
  },
  {
   "cell_type": "code",
   "execution_count": 1,
   "id": "55e7d5de-a229-4445-8c0d-c33943674c21",
   "metadata": {},
   "outputs": [],
   "source": [
    "import os\n",
    "\n",
    "region_name=\"us-east-1\"\n",
    "aws_profile=os.environ[\"AWS_PROFILE\"] # Specify the profile you want to use from your .aws/credentials file with the AWS_PROFILE env variable\n",
    "lambda_name=\"ballista-aws-tools-trigger-dev\"\n",
    "\n",
    "MEGA = 1024*1024"
   ]
  },
  {
   "cell_type": "code",
   "execution_count": 2,
   "id": "10a2801e-c41b-4e8f-aab3-5fc934852bbe",
   "metadata": {},
   "outputs": [],
   "source": [
    "import boto3\n",
    "from botocore.config import Config\n",
    "\n",
    "import json\n",
    "import base64\n",
    "from datetime import datetime\n",
    "import time\n",
    "import pandas as pd\n",
    "\n",
    "my_config = Config(\n",
    "    region_name = region_name,\n",
    "    read_timeout = 900,\n",
    "    retries = {\n",
    "        'max_attempts': 1,\n",
    "    }\n",
    ")\n",
    "\n",
    "session = boto3.Session(profile_name=aws_profile)\n",
    "client = session.client('lambda', config = my_config)"
   ]
  },
  {
   "cell_type": "markdown",
   "id": "bfc132e5-7824-4ddd-908a-29a847990df9",
   "metadata": {},
   "source": [
    "Run the TPC-H query 1 (group by on line items) with a number of executors ranging from 4 to 12:"
   ]
  },
  {
   "cell_type": "code",
   "execution_count": 9,
   "id": "9cfab995-92d5-401a-acf6-1279c4c8e001",
   "metadata": {},
   "outputs": [],
   "source": [
    "durations = []\n",
    "tpch_query = 1\n",
    "for exec_count in range(4,13):\n",
    "    inputParams = {\n",
    "        \"executor_count\": exec_count,\n",
    "        \"tpch_query\": tpch_query,\n",
    "    }\n",
    "    response = client.invoke(\n",
    "        FunctionName = lambda_name,\n",
    "        InvocationType = 'RequestResponse',\n",
    "        Payload = json.dumps(inputParams),\n",
    "        LogType='Tail'\n",
    "    )\n",
    "    # print(base64.b64decode(response['LogResult']).decode(\"utf-8\"))\n",
    "    resp_body = json.load(response['Payload'])\n",
    "    durations.append({\n",
    "        'executor_count': exec_count,\n",
    "        'tpch_query': tpch_query,\n",
    "        'provisioning_duration_ms': resp_body['provisioning_duration_ms'],\n",
    "        'execution_duration_ms': resp_body['execution_duration_ms'],\n",
    "    })"
   ]
  },
  {
   "cell_type": "code",
   "execution_count": 20,
   "id": "38e440fd-61b6-41a1-8248-f43629761276",
   "metadata": {},
   "outputs": [
    {
     "data": {
      "text/plain": [
       "<AxesSubplot:xlabel='executor_count'>"
      ]
     },
     "execution_count": 20,
     "metadata": {},
     "output_type": "execute_result"
    },
    {
     "data": {
      "image/png": "[encoded data removed]",
      "text/plain": [
       "<Figure size 432x288 with 1 Axes>"
      ]
     },
     "metadata": {
      "needs_background": "light"
     },
     "output_type": "display_data"
    }
   ],
   "source": [
    "df = pd.DataFrame(durations)\n",
    "df.set_index('executor_count')[['execution_duration_ms']].plot(grid=True)"
   ]
  },
  {
   "cell_type": "markdown",
   "id": "049749f2-e8ae-4149-8368-4b5bda3754e9",
   "metadata": {},
   "source": [
    "# Observations\n",
    "\n",
    "the performance seems to be capped at 210s on the TPC-H 100 dataset for the query 1. Indeed this query scans the lineitem table which represents \\~70GB of data, and 70GB/210s=\\~300MB/s which is the max burst read capacity of an EFS smaller than 1TB (https://docs.aws.amazon.com/efs/latest/ug/performance.html).\n",
    "\n",
    "Thus we can safely conclude that the data read from EFS is the bottleneck here."
   ]
  }
 ],
 "metadata": {
  "kernelspec": {
   "display_name": "Python 3 (ipykernel)",
   "language": "python",
   "name": "python3"
  },
  "language_info": {
   "codemirror_mode": {
    "name": "ipython",
    "version": 3
   },
   "file_extension": ".py",
   "mimetype": "text/x-python",
   "name": "python",
   "nbconvert_exporter": "python",
   "pygments_lexer": "ipython3",
   "version": "3.8.5"
  }
 },
 "nbformat": 4,
 "nbformat_minor": 5
}
